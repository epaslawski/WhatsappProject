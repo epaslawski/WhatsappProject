{
 "cells": [
  {
   "cell_type": "code",
   "execution_count": 11,
   "id": "ebb35d8b",
   "metadata": {},
   "outputs": [],
   "source": [
    "import pandas as pd\n",
    "import numpy as np\n",
    "import seaborn as sns\n",
    "import re"
   ]
  },
  {
   "cell_type": "code",
   "execution_count": 24,
   "id": "7989a567",
   "metadata": {},
   "outputs": [],
   "source": [
    "df = pd.read_fwf('_chat.txt',header=None)\n",
    "df.columns =['data', 'extra1','extra2']"
   ]
  },
  {
   "cell_type": "code",
   "execution_count": 25,
   "id": "ce19a27a",
   "metadata": {},
   "outputs": [
    {
     "data": {
      "text/html": [
       "<div>\n",
       "<style scoped>\n",
       "    .dataframe tbody tr th:only-of-type {\n",
       "        vertical-align: middle;\n",
       "    }\n",
       "\n",
       "    .dataframe tbody tr th {\n",
       "        vertical-align: top;\n",
       "    }\n",
       "\n",
       "    .dataframe thead th {\n",
       "        text-align: right;\n",
       "    }\n",
       "</style>\n",
       "<table border=\"1\" class=\"dataframe\">\n",
       "  <thead>\n",
       "    <tr style=\"text-align: right;\">\n",
       "      <th></th>\n",
       "      <th>data</th>\n",
       "      <th>extra1</th>\n",
       "      <th>extra2</th>\n",
       "    </tr>\n",
       "  </thead>\n",
       "  <tbody>\n",
       "    <tr>\n",
       "      <th>0</th>\n",
       "      <td>[2013-11-04, 11:35:37 AM] E changed the subjec...</td>\n",
       "      <td>NaN</td>\n",
       "      <td>NaN</td>\n",
       "    </tr>\n",
       "    <tr>\n",
       "      <th>1</th>\n",
       "      <td>[2013-11-04, 11:35:41 AM] E was added</td>\n",
       "      <td>NaN</td>\n",
       "      <td>NaN</td>\n",
       "    </tr>\n",
       "    <tr>\n",
       "      <th>2</th>\n",
       "      <td>[2013-11-04, 11:35:42 AM] ‎MagdaMazur was added</td>\n",
       "      <td>NaN</td>\n",
       "      <td>NaN</td>\n",
       "    </tr>\n",
       "    <tr>\n",
       "      <th>3</th>\n",
       "      <td>[2013-11-04, 11:35:42 AM] ‎You were added</td>\n",
       "      <td>NaN</td>\n",
       "      <td>NaN</td>\n",
       "    </tr>\n",
       "    <tr>\n",
       "      <th>4</th>\n",
       "      <td>[2013-11-04, 11:35:46 AM] ErinPaslawski: Yay</td>\n",
       "      <td>NaN</td>\n",
       "      <td>NaN</td>\n",
       "    </tr>\n",
       "  </tbody>\n",
       "</table>\n",
       "</div>"
      ],
      "text/plain": [
       "                                                data extra1 extra2\n",
       "0  [2013-11-04, 11:35:37 AM] E changed the subjec...    NaN    NaN\n",
       "1              [2013-11-04, 11:35:41 AM] E was added    NaN    NaN\n",
       "2    [2013-11-04, 11:35:42 AM] ‎MagdaMazur was added    NaN    NaN\n",
       "3          [2013-11-04, 11:35:42 AM] ‎You were added    NaN    NaN\n",
       "4       [2013-11-04, 11:35:46 AM] ErinPaslawski: Yay    NaN    NaN"
      ]
     },
     "execution_count": 25,
     "metadata": {},
     "output_type": "execute_result"
    }
   ],
   "source": [
    "df.head(5)"
   ]
  },
  {
   "cell_type": "code",
   "execution_count": 15,
   "id": "21b22682",
   "metadata": {},
   "outputs": [
    {
     "name": "stdout",
     "output_type": "stream",
     "text": [
      "2013-11-04, 11:35:37 AM\n"
     ]
    }
   ],
   "source": [
    "pattern = \"\\[(.*?)\\]\"\n",
    "s = \"[2013-11-04, 11:35:37 AM] E changed the subjec\"\n",
    "substring = re.search(pattern, s).group(1)\n",
    "print(substring)"
   ]
  },
  {
   "cell_type": "code",
   "execution_count": 31,
   "id": "7b166662",
   "metadata": {},
   "outputs": [],
   "source": [
    "df['timestamp'] = re.search(pattern,str(df['data'])).group(1)"
   ]
  },
  {
   "cell_type": "code",
   "execution_count": 32,
   "id": "90d352fe",
   "metadata": {},
   "outputs": [
    {
     "data": {
      "text/html": [
       "<div>\n",
       "<style scoped>\n",
       "    .dataframe tbody tr th:only-of-type {\n",
       "        vertical-align: middle;\n",
       "    }\n",
       "\n",
       "    .dataframe tbody tr th {\n",
       "        vertical-align: top;\n",
       "    }\n",
       "\n",
       "    .dataframe thead th {\n",
       "        text-align: right;\n",
       "    }\n",
       "</style>\n",
       "<table border=\"1\" class=\"dataframe\">\n",
       "  <thead>\n",
       "    <tr style=\"text-align: right;\">\n",
       "      <th></th>\n",
       "      <th>data</th>\n",
       "      <th>extra1</th>\n",
       "      <th>extra2</th>\n",
       "      <th>timestamp</th>\n",
       "    </tr>\n",
       "  </thead>\n",
       "  <tbody>\n",
       "    <tr>\n",
       "      <th>0</th>\n",
       "      <td>[2013-11-04, 11:35:37 AM] E changed the subjec...</td>\n",
       "      <td>NaN</td>\n",
       "      <td>NaN</td>\n",
       "      <td>2013-11-04, 11:35:37 AM</td>\n",
       "    </tr>\n",
       "    <tr>\n",
       "      <th>1</th>\n",
       "      <td>[2013-11-04, 11:35:41 AM] E was added</td>\n",
       "      <td>NaN</td>\n",
       "      <td>NaN</td>\n",
       "      <td>2013-11-04, 11:35:37 AM</td>\n",
       "    </tr>\n",
       "    <tr>\n",
       "      <th>2</th>\n",
       "      <td>[2013-11-04, 11:35:42 AM] ‎MagdaMazur was added</td>\n",
       "      <td>NaN</td>\n",
       "      <td>NaN</td>\n",
       "      <td>2013-11-04, 11:35:37 AM</td>\n",
       "    </tr>\n",
       "    <tr>\n",
       "      <th>3</th>\n",
       "      <td>[2013-11-04, 11:35:42 AM] ‎You were added</td>\n",
       "      <td>NaN</td>\n",
       "      <td>NaN</td>\n",
       "      <td>2013-11-04, 11:35:37 AM</td>\n",
       "    </tr>\n",
       "    <tr>\n",
       "      <th>4</th>\n",
       "      <td>[2013-11-04, 11:35:46 AM] ErinPaslawski: Yay</td>\n",
       "      <td>NaN</td>\n",
       "      <td>NaN</td>\n",
       "      <td>2013-11-04, 11:35:37 AM</td>\n",
       "    </tr>\n",
       "  </tbody>\n",
       "</table>\n",
       "</div>"
      ],
      "text/plain": [
       "                                                data extra1 extra2  \\\n",
       "0  [2013-11-04, 11:35:37 AM] E changed the subjec...    NaN    NaN   \n",
       "1              [2013-11-04, 11:35:41 AM] E was added    NaN    NaN   \n",
       "2    [2013-11-04, 11:35:42 AM] ‎MagdaMazur was added    NaN    NaN   \n",
       "3          [2013-11-04, 11:35:42 AM] ‎You were added    NaN    NaN   \n",
       "4       [2013-11-04, 11:35:46 AM] ErinPaslawski: Yay    NaN    NaN   \n",
       "\n",
       "                 timestamp  \n",
       "0  2013-11-04, 11:35:37 AM  \n",
       "1  2013-11-04, 11:35:37 AM  \n",
       "2  2013-11-04, 11:35:37 AM  \n",
       "3  2013-11-04, 11:35:37 AM  \n",
       "4  2013-11-04, 11:35:37 AM  "
      ]
     },
     "execution_count": 32,
     "metadata": {},
     "output_type": "execute_result"
    }
   ],
   "source": [
    "df.head(5)"
   ]
  },
  {
   "cell_type": "code",
   "execution_count": null,
   "id": "a68fe1d7",
   "metadata": {},
   "outputs": [],
   "source": []
  }
 ],
 "metadata": {
  "kernelspec": {
   "display_name": "Python 3 (ipykernel)",
   "language": "python",
   "name": "python3"
  },
  "language_info": {
   "codemirror_mode": {
    "name": "ipython",
    "version": 3
   },
   "file_extension": ".py",
   "mimetype": "text/x-python",
   "name": "python",
   "nbconvert_exporter": "python",
   "pygments_lexer": "ipython3",
   "version": "3.9.5"
  }
 },
 "nbformat": 4,
 "nbformat_minor": 5
}
